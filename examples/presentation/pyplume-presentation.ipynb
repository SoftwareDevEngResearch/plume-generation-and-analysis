{
 "cells": [
  {
   "cell_type": "markdown",
   "metadata": {
    "slideshow": {
     "slide_type": "slide"
    }
   },
   "source": [
    "<h1>Exhaust modeling with PyPlume </h1> \n",
    "<h3>Anthony Walker</h3>\n",
    "<div class=\"row\">\n",
    "  <div class=\"column\">\n",
    "    <img style=\"float: left; width: 50%; padding: 5px\" src=\"https://communications.oregonstate.edu/sites/communications.oregonstate.edu/files/osu-primarylogo-2-compressor.jpg\">\n",
    "  </div>\n",
    "  <div class=\"column\">\n",
    "    <img style=\"float: right; padding: 5px\" src=\"https://niemeyer-research-group.github.io/assets/themes/lab/images/logo/lab-logo.svg\">\n",
    "  </div>\n",
    "</div>\n"
   ]
  },
  {
   "cell_type": "markdown",
   "metadata": {
    "slideshow": {
     "slide_type": "slide"
    }
   },
   "source": [
    "# Background & Motivation\n",
    "\n",
    "+ **Jacobian Preconditioning**\n",
    "+ **Atmospheric Chemistry**\n",
    "\n",
    "<img style=\"float: right; padding: 5px\" src=\"https://www.ansys.com/-/media/ansys/corporate/blog/instantaneous-temperature-contours-for-a-turbulent-pilot-stabilized-flame-with-ansys-cfd-fgm-modeling.png?h=246&w=540&la=en&hash=3F619D2817F71BCF666E25D67FFC28A82E0A06DE\">"
   ]
  },
  {
   "cell_type": "markdown",
   "metadata": {
    "slideshow": {
     "slide_type": "slide"
    }
   },
   "source": [
    "# Design\n",
    "\n",
    "+ **mechanisms**\n",
    "+ **model**\n",
    "+ **output**\n",
    "+ **figs**\n",
    "+ **stats**\n",
    "\n",
    "<img style=\"float: left; padding: 1px;  width: 80%;\n",
    "  height: auto\" src=\"https://docs.google.com/drawings/d/e/2PACX-1vR3WNdtqP-XrTlt2AzNjb0qXGGVhuw_hbf4pLCnDHrq7-beNKYHCRTqri56t5TiE5LrBjiyP0PtiJQ-/pub?w=738&h=178\">\n",
    "\n",
    "\n"
   ]
  },
  {
   "cell_type": "markdown",
   "metadata": {
    "slideshow": {
     "slide_type": "slide"
    }
   },
   "source": [
    "# Theory\n",
    "\n",
    "+ **Cantera Reactor Network**\n",
    "+ **Exhaust Models**\n",
    "+ **Less Well Mixed**\n",
    "\n",
    "<img style=\"float: right; padding: 5px\" src=\"https://docs.google.com/drawings/d/e/2PACX-1vQjNOcn46UpOd9TokKdJO9kFOwqvHtagDwb1Mq05iR0QUzjVnW41DEZQ_YD6RL4AGChMI5Kgl3Kp3vx/pub?w=1203&h=513\">\n",
    "\n",
    "\n"
   ]
  },
  {
   "cell_type": "markdown",
   "metadata": {},
   "source": [
    "\n",
    "# Installation\n",
    "\n",
    "```python\n",
    "conda install -c anthony-walker pyplume\n",
    "```\n",
    "\n",
    "```python\n",
    "pip install pyplume\n",
    "```"
   ]
  },
  {
   "cell_type": "code",
   "execution_count": 29,
   "metadata": {
    "slideshow": {
     "slide_type": "slide"
    }
   },
   "outputs": [
    {
     "name": "stdout",
     "output_type": "stream",
     "text": [
      "Collecting package metadata (current_repodata.json): done\n",
      "Solving environment: done\n",
      "\n",
      "# All requested packages already installed.\n",
      "\n",
      "This classmethod build a 1 reactor exhaust model. It has extra parameters than the class\n",
      "        Linear expansion model:\n",
      "        [fuel res]->[combustor]->[ex1]->[exRes]\n",
      "        [farfield]->[ex1]\n",
      "        \n"
     ]
    }
   ],
   "source": [
    "import sys\n",
    "!conda install --yes --prefix {sys.prefix} -c anthony-walker pyplume\n",
    "import pyplume\n",
    "plumeModel = pyplume.model.PlumeModel.simpleModel()\n",
    "print(pyplume.model.PlumeModel.simpleModel.__doc__)"
   ]
  },
  {
   "cell_type": "code",
   "execution_count": null,
   "metadata": {},
   "outputs": [],
   "source": []
  },
  {
   "cell_type": "code",
   "execution_count": null,
   "metadata": {},
   "outputs": [],
   "source": []
  }
 ],
 "metadata": {
  "celltoolbar": "Slideshow",
  "kernelspec": {
   "display_name": "presentation",
   "language": "python",
   "name": "presentation"
  },
  "language_info": {
   "codemirror_mode": {
    "name": "ipython",
    "version": 3
   },
   "file_extension": ".py",
   "mimetype": "text/x-python",
   "name": "python",
   "nbconvert_exporter": "python",
   "pygments_lexer": "ipython3",
   "version": "3.6.10"
  }
 },
 "nbformat": 4,
 "nbformat_minor": 4
}
