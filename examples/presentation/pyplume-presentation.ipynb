{
 "cells": [
  {
   "cell_type": "markdown",
   "metadata": {
    "slideshow": {
     "slide_type": "slide"
    }
   },
   "source": [
    "<h1>Exhaust modeling with PyPlume </h1> \n",
    "<h3>Anthony Walker</h3>\n",
    "<div class=\"row\">\n",
    "  <div class=\"column\">\n",
    "    <img style=\"float: left; width: 50%; padding: 5px\" src=\"https://communications.oregonstate.edu/sites/communications.oregonstate.edu/files/osu-primarylogo-2-compressor.jpg\">\n",
    "  </div>\n",
    "  <div class=\"column\">\n",
    "    <img style=\"float: right; padding: 5px\" src=\"https://niemeyer-research-group.github.io/assets/themes/lab/images/logo/lab-logo.svg\">\n",
    "  </div>\n",
    "</div>\n"
   ]
  },
  {
   "cell_type": "markdown",
   "metadata": {
    "slideshow": {
     "slide_type": "slide"
    }
   },
   "source": [
    "# Background & Motivation\n",
    "\n",
    "+ **Jacobian Preconditioning**\n",
    "+ **Atmospheric Chemistry**\n",
    "\n",
    "<img style=\"float: left; padding: 1px\" src=\"https://docs.google.com/drawings/d/e/2PACX-1vQXTWGDqDBCHU0wRsgG4QKfFBGwy-_Oj-R_chnHuKbOq9cCRg8Y4wh4L4J8WNvwXsFnvaEgLNvp1EBB/pub?w=480&h=360\">"
   ]
  },
  {
   "cell_type": "markdown",
   "metadata": {
    "slideshow": {
     "slide_type": "slide"
    }
   },
   "source": [
    "# Design\n",
    "\n",
    "+ **mechanisms**\n",
    "+ **model**\n",
    "+ **output**\n",
    "+ **figures**\n",
    "+ **statistics**\n",
    "\n",
    "<img style=\"float: left; padding: 1px;  width: 80%;\n",
    "  height: auto\" src=\"https://docs.google.com/drawings/d/e/2PACX-1vR3WNdtqP-XrTlt2AzNjb0qXGGVhuw_hbf4pLCnDHrq7-beNKYHCRTqri56t5TiE5LrBjiyP0PtiJQ-/pub?w=738&h=178\">\n",
    "\n",
    "\n"
   ]
  },
  {
   "cell_type": "markdown",
   "metadata": {
    "slideshow": {
     "slide_type": "slide"
    }
   },
   "source": [
    "# Theory\n",
    "\n",
    "+ **Cantera Reactor Network**\n",
    "+ **Exhaust Models**\n",
    "+ **Less Well Mixed**\n",
    "\n",
    "<img style=\"float: right; padding: 5px\" src=\"https://docs.google.com/drawings/d/e/2PACX-1vQjNOcn46UpOd9TokKdJO9kFOwqvHtagDwb1Mq05iR0QUzjVnW41DEZQ_YD6RL4AGChMI5Kgl3Kp3vx/pub?w=1203&h=513\">\n",
    "\n",
    "\n"
   ]
  },
  {
   "cell_type": "markdown",
   "metadata": {
    "slideshow": {
     "slide_type": "slide"
    }
   },
   "source": [
    "\n",
    "# Installation\n",
    "\n",
    "```python\n",
    "conda install -c anthony-walker pyplume\n",
    "```\n",
    "\n",
    "```python\n",
    "pip install pyplume\n",
    "```\n",
    "\n",
    "# Testing\n",
    "\n",
    "The plan is to have a test function of each module. I have currently implemented some of them."
   ]
  },
  {
   "cell_type": "code",
   "execution_count": 7,
   "metadata": {
    "slideshow": {
     "slide_type": "slide"
    }
   },
   "outputs": [
    {
     "name": "stdout",
     "output_type": "stream",
     "text": [
      "\u001b[1m============================= test session starts ==============================\u001b[0m\n",
      "platform linux -- Python 3.6.10, pytest-5.4.2, py-1.8.1, pluggy-0.13.1 -- /home/sokato/miniconda3/envs/presentation/bin/python\n",
      "cachedir: .pytest_cache\n",
      "rootdir: /home/sokato\n",
      "collected 4 items                                                              \u001b[0m\n",
      "\n",
      "../../../../miniconda3/envs/presentation/lib/python3.6/site-packages/pyplume/tests/testMechs.py::test_mechFileAdd_exit \u001b[32mPASSED\u001b[0m\u001b[32m [ 25%]\u001b[0m\n",
      "../../../../miniconda3/envs/presentation/lib/python3.6/site-packages/pyplume/tests/testMechs.py::test_mechFileAdd \u001b[32mPASSED\u001b[0m\u001b[32m [ 50%]\u001b[0m\n",
      "../../../../miniconda3/envs/presentation/lib/python3.6/site-packages/pyplume/tests/testMechs.py::test_mechFileDelete \u001b[32mPASSED\u001b[0m\u001b[32m [ 75%]\u001b[0m\n",
      "../../../../miniconda3/envs/presentation/lib/python3.6/site-packages/pyplume/tests/testMechs.py::test_mechFileRestore \u001b[32mPASSED\u001b[0m\u001b[32m [100%]\u001b[0m\n",
      "\n",
      "\u001b[32m============================== \u001b[32m\u001b[1m4 passed\u001b[0m\u001b[32m in 0.02s\u001b[0m\u001b[32m ===============================\u001b[0m\n",
      "\u001b[1m============================= test session starts ==============================\u001b[0m\n",
      "platform linux -- Python 3.6.10, pytest-5.4.2, py-1.8.1, pluggy-0.13.1 -- /home/sokato/miniconda3/envs/presentation/bin/python\n",
      "cachedir: .pytest_cache\n",
      "rootdir: /home/sokato\n",
      "collected 5 items                                                              \u001b[0m\n",
      "\n",
      "../../../../miniconda3/envs/presentation/lib/python3.6/site-packages/pyplume/tests/testModel.py::test_linearExpansionModel \u001b[32mPASSED\u001b[0m\u001b[32m [ 20%]\u001b[0m\n",
      "../../../../miniconda3/envs/presentation/lib/python3.6/site-packages/pyplume/tests/testModel.py::test_gridModel \u001b[32mPASSED\u001b[0m\u001b[32m [ 40%]\u001b[0m\n",
      "../../../../miniconda3/envs/presentation/lib/python3.6/site-packages/pyplume/tests/testModel.py::test_simpleModel \u001b[32mPASSED\u001b[0m\u001b[32m [ 60%]\u001b[0m\n",
      "../../../../miniconda3/envs/presentation/lib/python3.6/site-packages/pyplume/tests/testModel.py::test_connectReactors \u001b[32mPASSED\u001b[0m\u001b[32m [ 80%]\u001b[0m\n",
      "../../../../miniconda3/envs/presentation/lib/python3.6/site-packages/pyplume/tests/testModel.py::test_createReactors \u001b[32mPASSED\u001b[0m\u001b[32m [100%]\u001b[0m\n",
      "\n",
      "\u001b[32m============================== \u001b[32m\u001b[1m5 passed\u001b[0m\u001b[32m in 0.25s\u001b[0m\u001b[32m ===============================\u001b[0m\n"
     ]
    }
   ],
   "source": [
    "!rm simple.hdf5 #remove hdf5 file\n",
    "!pyplume.mech -t #commandline test mechanisms\n"
   ]
  },
  {
   "cell_type": "code",
   "execution_count": 29,
   "metadata": {
    "slideshow": {
     "slide_type": "subslide"
    }
   },
   "outputs": [
    {
     "name": "stdout",
     "output_type": "stream",
     "text": [
      "\u001b[1m============================= test session starts ==============================\u001b[0m\n",
      "platform linux -- Python 3.6.10, pytest-5.4.2, py-1.8.1, pluggy-0.13.1 -- /home/sokato/miniconda3/envs/presentation/bin/python\n",
      "cachedir: .pytest_cache\n",
      "rootdir: /home/sokato\n",
      "collected 5 items                                                              \u001b[0m\n",
      "\n",
      "../../../../miniconda3/envs/presentation/lib/python3.6/site-packages/pyplume/tests/testModel.py::test_linearExpansionModel \u001b[32mPASSED\u001b[0m\u001b[32m [ 20%]\u001b[0m\n",
      "../../../../miniconda3/envs/presentation/lib/python3.6/site-packages/pyplume/tests/testModel.py::test_gridModel \u001b[32mPASSED\u001b[0m\u001b[32m [ 40%]\u001b[0m\n",
      "../../../../miniconda3/envs/presentation/lib/python3.6/site-packages/pyplume/tests/testModel.py::test_simpleModel \u001b[32mPASSED\u001b[0m\u001b[32m [ 60%]\u001b[0m\n",
      "../../../../miniconda3/envs/presentation/lib/python3.6/site-packages/pyplume/tests/testModel.py::test_connectReactors \u001b[32mPASSED\u001b[0m\u001b[32m [ 80%]\u001b[0m\n",
      "../../../../miniconda3/envs/presentation/lib/python3.6/site-packages/pyplume/tests/testModel.py::test_createReactors \u001b[32mPASSED\u001b[0m\u001b[32m [100%]\u001b[0m\n",
      "\n",
      "\u001b[32m============================== \u001b[32m\u001b[1m5 passed\u001b[0m\u001b[32m in 0.31s\u001b[0m\u001b[32m ===============================\u001b[0m\n"
     ]
    }
   ],
   "source": [
    "!pyplume.model simple -t #commandline test model"
   ]
  },
  {
   "cell_type": "code",
   "execution_count": 36,
   "metadata": {
    "slideshow": {
     "slide_type": "slide"
    }
   },
   "outputs": [
    {
     "name": "stdout",
     "output_type": "stream",
     "text": [
      "Collecting package metadata (current_repodata.json): done\n",
      "Solving environment: done\n",
      "\n",
      "# All requested packages already installed.\n",
      "\n",
      "\n",
      "Checking test.cti exists and is a file...\n",
      "\n",
      "Adding test.cti to mechanisms...\n",
      "\n",
      "done.\n",
      "\n",
      "\n",
      "Listing mechanism files.\n",
      "\n",
      "\ttest.cti\n",
      "\tgri30.cti\n",
      "\th2o2.cti\n",
      "done.\n",
      "\n"
     ]
    }
   ],
   "source": [
    "import sys\n",
    "import pyplume\n",
    "import numpy as np\n",
    "\n",
    "#Install package\n",
    "!conda install --yes --prefix {sys.prefix} -c anthony-walker pyplume\n",
    "\n",
    "# Mechanism management\n",
    "cti = 'test.cti'\n",
    "pyplume.mech.mechFileAdd(cti) #Add mechanism file\n",
    "pyplume.mech.mechFileList() #list mechanism files\n",
    "#pyplume.tests.testMechs.runTests() #Run tests for mech management\n"
   ]
  },
  {
   "cell_type": "code",
   "execution_count": 37,
   "metadata": {
    "slideshow": {
     "slide_type": "slide"
    }
   },
   "outputs": [
    {
     "name": "stdout",
     "output_type": "stream",
     "text": [
      "\n",
      "        Linear Expansion Model:\n",
      "        Use this function to generate an instance with linear expansion connects method. It takes all the parameters\n",
      "        that the class does except connects and replaces connects with n parameter.\n",
      "\n",
      "        Parameters:\n",
      "            n - number of reactors using linear expansion. e.g. at level 1 there is one reactor\n",
      "                at level two there are two and so on. n must result in an integer number of steps\n",
      "                based on the formula:steps=(-1+np.sqrt(1+8*n))/2\n",
      "\n",
      "        Network:\n",
      "        [fuel res]->[combustor]->[ex1]->[ex2]->[ex4]->[exRes]\n",
      "                                      ->[ex3]->[ex5]->[exRes]\n",
      "                                             ->[ex6]->[exRes]\n",
      "        [farfield]->[ex1,ex2,ex3,ex4,ex6]\n",
      "\n",
      "        Notes:\n",
      "        The farfield is connected as an inlet for each exterior reactor if you were to draw them as 2D blocks.\n",
      "        \n"
     ]
    }
   ],
   "source": [
    "\n",
    "!rm simple.hdf5 #remove hdf5 file\n",
    "#Create model\n",
    "plumeModel = pyplume.model.PlumeModel.simpleModel()\n",
    "print(pyplume.model.PlumeModel.linearExpansionModel.__doc__)\n",
    "#Build Network\n",
    "plumeModel.buildNetwork()"
   ]
  },
  {
   "cell_type": "code",
   "execution_count": 38,
   "metadata": {
    "slideshow": {
     "slide_type": "subslide"
    }
   },
   "outputs": [
    {
     "name": "stdout",
     "output_type": "stream",
     "text": [
      "PyPlume Network Model Summary:\n",
      "fuel: T: 300.00 K, V: 1.00 m^3, mass: 0.08 kg\n",
      "atmosphere: T: 300.00 K, V: 1.00 m^3, mass: 1.18 kg\n",
      "combustor: T: 300.00 K, V: 1.00 m^3, mass: 0.08 kg\n",
      "exhaust0: T: 300.00 K, V: 1.00 m^3, mass: 0.08 kg\n",
      "exhaust: T: 300.00 K, V: 1.00 m^3, mass: 1.18 kg\n"
     ]
    }
   ],
   "source": [
    "print(plumeModel)"
   ]
  },
  {
   "cell_type": "code",
   "execution_count": 39,
   "metadata": {
    "slideshow": {
     "slide_type": "slide"
    }
   },
   "outputs": [
    {
     "name": "stdout",
     "output_type": "stream",
     "text": [
      "PyPlume Network Model Summary:\n",
      "fuel: T: 300.00 K, V: 1.00 m^3, mass: 0.08 kg\n",
      "atmosphere: T: 300.00 K, V: 1.00 m^3, mass: 1.18 kg\n",
      "combustor: T: 300.00 K, V: 1.00 m^3, mass: 0.08 kg\n",
      "exhaust0: T: 300.00 K, V: 1.01 m^3, mass: 0.09 kg\n",
      "exhaust: T: 300.00 K, V: 1.00 m^3, mass: 1.18 kg\n",
      "Reactor Network Mass Fractions:\n",
      "combustor\n",
      " mass: 8.19e-02,  enthalpy: 2.17e+03,  H2: 1.00e+00,  H: -2.10e-33,  O: 3.72e-46,  O2: -4.20e-34,  OH: 5.46e-49,  H2O: 3.58e-34,  HO2: 9.51e-37,  H2O2: 1.84e-45,  C: -8.00e-37,  CH: -1.36e-52,  CH2: -5.94e-38,  CH2(S): -3.05e-62,  CH3: 7.65e-34,  CH4: 1.13e-33,  CO: 4.38e-54,  CO2: 1.22e-55,  HCO: 4.04e-55,  CH2O: 8.51e-54,  CH2OH: 7.78e-60,  CH3O: -3.42e-62,  CH3OH: 6.18e-55,  C2H: -1.90e-73,  C2H2: 3.19e-54,  C2H3: -9.86e-74,  C2H4: 1.51e-56,  C2H5: -3.45e-55,  C2H6: -4.03e-47,  HCCO: 2.50e-92,  CH2CO: -2.11e-78,  HCCOH: 1.19e-88,  N: 0.00e+00,  NH: 0.00e+00,  NH2: 0.00e+00,  NH3: 0.00e+00,  NNH: 0.00e+00,  NO: 0.00e+00,  NO2: 0.00e+00,  N2O: 0.00e+00,  HNO: 0.00e+00,  CN: 0.00e+00,  HCN: 0.00e+00,  H2CN: 0.00e+00,  HCNN: 0.00e+00,  HCNO: 0.00e+00,  HOCN: 0.00e+00,  HNCO: 0.00e+00,  NCO: 0.00e+00,  N2: 0.00e+00,  AR: 0.00e+00,  C3H7: -2.15e-72,  C3H8: -3.69e-74,  CH2CHO: 2.29e-78,  CH3CHO: 1.80e-74, \n",
      "exhaust0\n",
      " mass: 9.19e-02,  enthalpy: 2.19e+03,  H2: 8.91e-01,  H: 6.16e-33,  O: 1.70e-32,  O2: 2.52e-02,  OH: 2.49e-35,  H2O: -1.47e-27,  HO2: -1.16e-25,  H2O2: -6.39e-29,  C: 1.06e-40,  CH: 1.55e-56,  CH2: -6.90e-42,  CH2(S): -5.58e-52,  CH3: 7.35e-33,  CH4: 9.53e-33,  CO: 7.34e-32,  CO2: 5.98e-35,  HCO: -8.22e-49,  CH2O: 1.69e-35,  CH2OH: 2.38e-53,  CH3O: 7.34e-49,  CH3OH: 3.08e-40,  C2H: -6.62e-67,  C2H2: -1.33e-46,  C2H3: 1.76e-66,  C2H4: -2.97e-54,  C2H5: -3.40e-56,  C2H6: -3.57e-46,  HCCO: -2.41e-68,  CH2CO: 2.22e-52,  HCCOH: -4.37e-72,  N: -2.06e-53,  NH: 2.19e-52,  NH2: 4.22e-57,  NH3: -3.69e-51,  NNH: 2.15e-43,  NO: -3.07e-45,  NO2: 2.35e-51,  N2O: -7.18e-41,  HNO: -2.15e-49,  CN: -3.74e-72,  HCN: -1.48e-51,  H2CN: -2.54e-58,  HCNN: -5.47e-50,  HCNO: -1.17e-66,  HOCN: -1.29e-77,  HNCO: 8.81e-58,  NCO: -4.19e-62,  N2: 8.21e-02,  AR: 1.50e-03,  C3H7: -2.08e-71,  C3H8: -3.11e-73,  CH2CHO: 9.97e-64,  CH3CHO: -1.21e-57, \n"
     ]
    }
   ],
   "source": [
    "#Integrate model over time\n",
    "for t in np.arange(0,1,0.1):\n",
    "    plumeModel(t)\n",
    "#Advance model to steady state\n",
    "ss = plumeModel.steadyState()\n",
    "plumeModel.ptype = False #Set for dense printing\n",
    "print(plumeModel)"
   ]
  },
  {
   "cell_type": "code",
   "execution_count": 34,
   "metadata": {
    "slideshow": {
     "slide_type": "slide"
    }
   },
   "outputs": [
    {
     "data": {
      "image/png": "[encoded data removed]",
      "text/plain": [
       "<Figure size 432x288 with 1 Axes>"
      ]
     },
     "metadata": {
      "needs_background": "light"
     },
     "output_type": "display_data"
    },
    {
     "data": {
      "image/png": "[encoded data removed]",
      "text/plain": [
       "<Figure size 432x288 with 1 Axes>"
      ]
     },
     "metadata": {
      "needs_background": "light"
     },
     "output_type": "display_data"
    }
   ],
   "source": [
    "fgk = pyplume.figures.figureGenerationKit(\"simple.hdf5\",save=False,show=True)\n",
    "# fgk.plotProperty(['CO2','mass'])\n",
    "fgk.plotProperty(['CO2',],reactors=[0,])\n",
    "fgk.plotProperty(['mass',])"
   ]
  },
  {
   "cell_type": "markdown",
   "metadata": {
    "slideshow": {
     "slide_type": "slide"
    }
   },
   "source": [
    "# Command-line interface\n",
    "\n",
    "```shell\n",
    "pyplume.mech -a test.cti\n",
    "pyplume.model simple\n",
    "pyplume.figures simple.hdf5\n",
    "```"
   ]
  },
  {
   "cell_type": "code",
   "execution_count": 1,
   "metadata": {
    "slideshow": {
     "slide_type": "slide"
    }
   },
   "outputs": [
    {
     "name": "stdout",
     "output_type": "stream",
     "text": [
      "\n",
      "Checking test.cti exists and is a file...\n",
      "\n",
      "Adding test.cti to mechanisms...\n",
      "\n",
      "done.\n",
      "\n",
      "Creating simple model and building network.\n",
      "Advancing to time: 0.000.\n",
      "Advancing to time: 0.100.\n",
      "Advancing to time: 0.200.\n",
      "Advancing to time: 0.300.\n",
      "Advancing to time: 0.400.\n",
      "Advancing to time: 0.500.\n",
      "Advancing to time: 0.600.\n",
      "Advancing to time: 0.700.\n",
      "Advancing to time: 0.800.\n",
      "Advancing to time: 0.900.\n",
      "Advancing to time: 1.000.\n",
      "Figure(640x480)\n",
      "Figure(640x480)\n",
      " CO2.pdf\t\t\t   pyplume-presentation.ipynb\n",
      " mass.pdf\t\t\t   pyplume-presentation.slides.html\n",
      "'ME 599 presentation rubric.pdf'   simple.hdf5\n",
      " nohup.out\t\t\t   test.cti\n"
     ]
    }
   ],
   "source": [
    "!rm simple.hdf5\n",
    "!pyplume.mech -a test.cti\n",
    "!pyplume.model simple --verbose\n",
    "!pyplume.figures simple.hdf5 -d -w -p 'CO2' 'mass'\n",
    "!ls"
   ]
  },
  {
   "cell_type": "markdown",
   "metadata": {
    "slideshow": {
     "slide_type": "slide"
    }
   },
   "source": [
    "# Future Work"
   ]
  },
  {
   "cell_type": "markdown",
   "metadata": {
    "slideshow": {
     "slide_type": "slide"
    }
   },
   "source": [
    "# Questions?"
   ]
  }
 ],
 "metadata": {
  "celltoolbar": "Slideshow",
  "kernelspec": {
   "display_name": "presentation",
   "language": "python",
   "name": "presentation"
  },
  "language_info": {
   "codemirror_mode": {
    "name": "ipython",
    "version": 3
   },
   "file_extension": ".py",
   "mimetype": "text/x-python",
   "name": "python",
   "nbconvert_exporter": "python",
   "pygments_lexer": "ipython3",
   "version": "3.6.10"
  }
 },
 "nbformat": 4,
 "nbformat_minor": 4
}
